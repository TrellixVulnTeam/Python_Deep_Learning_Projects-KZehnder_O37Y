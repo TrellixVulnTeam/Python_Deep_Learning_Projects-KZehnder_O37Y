{
 "cells": [
  {
   "cell_type": "code",
   "execution_count": 5,
   "metadata": {},
   "outputs": [
    {
     "name": "stdout",
     "output_type": "stream",
     "text": [
      "[INFO] loading pre-trained model...\n",
      "[INFO] predicting...\n",
      "[INFO] rank-1: 92.24%\n",
      "[INFO] rank-5: 100.00%\n"
     ]
    }
   ],
   "source": [
    "# USAGE\n",
    "# python rank_accuracy.py --db ../datasets/flowers17/hdf5/features.hdf5\n",
    "#\t--model ../chapter03-feature_extraction/flowers17.cpickle\n",
    "# python rank_accuracy.py --db ../datasets/caltech-101/hdf5/features.hdf5 \\\n",
    "#\t--model ../chapter03-feature_extraction/caltech101.cpickle\n",
    "\n",
    "# import the necessary packages\n",
    "from pyimagesearch.utils.ranked import rank5_accuracy\n",
    "import argparse\n",
    "import pickle\n",
    "import h5py\n",
    "\n",
    "h5db = '../chapter03-feature_extraction/git_output/feat_extract_vgg16_augmentation_fruit_notebook.hdf5'\n",
    "model = '../chapter03-feature_extraction/git_output/feat_extract_vgg16_fruit_notebook.model'\n",
    "\n",
    "# load the pre-trained model\n",
    "print(\"[INFO] loading pre-trained model...\")\n",
    "model = pickle.loads(open(model, \"rb\").read())\n",
    "\n",
    "# open the HDF5 database for reading then determine the index of\n",
    "# the training and testing split, provided that this data was\n",
    "# already shuffled *prior* to writing it to disk\n",
    "db = h5py.File(h5db, \"r\")\n",
    "i = int(db[\"labels\"].shape[0] * 0.75)\n",
    "\n",
    "# make predictions on the testing set then compute the rank-1\n",
    "# and rank-5 accuracies\n",
    "print(\"[INFO] predicting...\")\n",
    "preds = model.predict_proba(db[\"features\"][i:])\n",
    "(rank1, rank5) = rank5_accuracy(preds, db[\"labels\"][i:])\n",
    "\n",
    "# display the rank-1 and rank-5 accuracies\n",
    "print(\"[INFO] rank-1: {:.2f}%\".format(rank1 * 100))\n",
    "print(\"[INFO] rank-5: {:.2f}%\".format(rank5 * 100))\n",
    "\n",
    "# close the database\n",
    "db.close()"
   ]
  },
  {
   "cell_type": "code",
   "execution_count": null,
   "metadata": {},
   "outputs": [],
   "source": []
  }
 ],
 "metadata": {
  "kernelspec": {
   "display_name": "Python 3",
   "language": "python",
   "name": "python3"
  },
  "language_info": {
   "codemirror_mode": {
    "name": "ipython",
    "version": 3
   },
   "file_extension": ".py",
   "mimetype": "text/x-python",
   "name": "python",
   "nbconvert_exporter": "python",
   "pygments_lexer": "ipython3",
   "version": "3.7.4"
  }
 },
 "nbformat": 4,
 "nbformat_minor": 4
}
